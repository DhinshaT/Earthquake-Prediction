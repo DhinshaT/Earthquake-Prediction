{
 "cells": [
  {
   "cell_type": "markdown",
   "id": "6f7fd90d",
   "metadata": {},
   "source": [
    "# Model Building"
   ]
  },
  {
   "cell_type": "code",
   "execution_count": 1,
   "id": "a3f1baad",
   "metadata": {},
   "outputs": [],
   "source": [
    "import pandas as pd\n",
    "from sklearn.ensemble import RandomForestClassifier\n",
    "from sklearn.metrics import precision_score, recall_score, f1_score, roc_auc_score, accuracy_score, classification_report\n",
    "from sklearn.metrics import confusion_matrix\n",
    "from sklearn.model_selection import train_test_split\n",
    "from sklearn.tree import DecisionTreeClassifier"
   ]
  },
  {
   "cell_type": "code",
   "execution_count": 18,
   "id": "00f1cc03",
   "metadata": {},
   "outputs": [],
   "source": [
    "import matplotlib.pyplot as plt\n",
    "import seaborn as sns"
   ]
  },
  {
   "cell_type": "code",
   "execution_count": 2,
   "id": "aee0d466",
   "metadata": {},
   "outputs": [],
   "source": [
    "train=pd.read_csv(\"train_values.csv\")\n",
    "labels=pd.read_csv(\"train_labels.csv\")\n",
    "test = pd.read_csv(\"test_values.csv\")"
   ]
  },
  {
   "cell_type": "code",
   "execution_count": 3,
   "id": "a8c1b739",
   "metadata": {},
   "outputs": [],
   "source": [
    "# adding labels to train dataset\n",
    "train[\"damage_grade\"]=labels[\"damage_grade\"]"
   ]
  },
  {
   "cell_type": "code",
   "execution_count": 4,
   "id": "c9ef1e20",
   "metadata": {},
   "outputs": [],
   "source": [
    "# copying the original dataset into X\n",
    "X=train\n",
    "# droping building_id and dependent variable damage_grade\n",
    "# independant variables\n",
    "X=X.drop([\"damage_grade\",\"building_id\"],axis=1)\n",
    "# dependent variable\n",
    "y=train[\"damage_grade\"]"
   ]
  },
  {
   "cell_type": "code",
   "execution_count": 5,
   "id": "a310c2de",
   "metadata": {},
   "outputs": [],
   "source": [
    "# dependent variable\n",
    "y=train[\"damage_grade\"]\n",
    "# label encoding the categorical variables\n",
    "label_encoding_columns=['land_surface_condition', 'foundation_type', 'roof_type',\n",
    "       'ground_floor_type', 'other_floor_type', 'position',\n",
    "       'plan_configuration', 'legal_ownership_status']\n",
    "# label encoding categorical columns in train dataset \n",
    "for i in label_encoding_columns:\n",
    "    X[i]=X[i].astype(\"category\")\n",
    "    X[i]=X[i].cat.codes\n",
    "# label encoding categorical columns in test dataset\n",
    "for j in label_encoding_columns:\n",
    "    test[j]=test[j].astype(\"category\")\n",
    "    test[j]=test[j].cat.codes"
   ]
  },
  {
   "cell_type": "code",
   "execution_count": 6,
   "id": "97bc15d8",
   "metadata": {},
   "outputs": [],
   "source": [
    "x_train, x_test,y_train, y_test = train_test_split(X,y,test_size = 0.20,random_state = 42)"
   ]
  },
  {
   "cell_type": "markdown",
   "id": "92f72df4",
   "metadata": {},
   "source": [
    "## Decision tree"
   ]
  },
  {
   "cell_type": "code",
   "execution_count": 8,
   "id": "b45fb498",
   "metadata": {},
   "outputs": [],
   "source": [
    "dt = DecisionTreeClassifier(random_state=0)"
   ]
  },
  {
   "cell_type": "code",
   "execution_count": 9,
   "id": "ffc693e2",
   "metadata": {},
   "outputs": [
    {
     "data": {
      "text/plain": [
       "DecisionTreeClassifier(random_state=0)"
      ]
     },
     "execution_count": 9,
     "metadata": {},
     "output_type": "execute_result"
    }
   ],
   "source": [
    "dt.fit(x_train, y_train)"
   ]
  },
  {
   "cell_type": "code",
   "execution_count": 10,
   "id": "38d7cd03",
   "metadata": {},
   "outputs": [],
   "source": [
    "prediction = dt.predict(x_test)"
   ]
  },
  {
   "cell_type": "code",
   "execution_count": 11,
   "id": "4883b941",
   "metadata": {},
   "outputs": [
    {
     "data": {
      "text/plain": [
       "array([[ 2591,  2242,   337],\n",
       "       [ 2321, 20812,  6354],\n",
       "       [  373,  6277, 10814]], dtype=int64)"
      ]
     },
     "execution_count": 11,
     "metadata": {},
     "output_type": "execute_result"
    }
   ],
   "source": [
    "cm = confusion_matrix(y_test, prediction)\n",
    "cm"
   ]
  },
  {
   "cell_type": "code",
   "execution_count": 12,
   "id": "c970ab35",
   "metadata": {},
   "outputs": [
    {
     "data": {
      "text/plain": [
       "0.6564916252566144"
      ]
     },
     "execution_count": 12,
     "metadata": {},
     "output_type": "execute_result"
    }
   ],
   "source": [
    "accuracy_score(y_test, prediction)"
   ]
  },
  {
   "cell_type": "code",
   "execution_count": 13,
   "id": "80ee2292",
   "metadata": {},
   "outputs": [
    {
     "data": {
      "text/plain": [
       "0.6564916252566144"
      ]
     },
     "execution_count": 13,
     "metadata": {},
     "output_type": "execute_result"
    }
   ],
   "source": [
    "f1_score(y_test,prediction, average=\"micro\")"
   ]
  },
  {
   "cell_type": "code",
   "execution_count": 14,
   "id": "66cda359",
   "metadata": {
    "scrolled": true
   },
   "outputs": [
    {
     "name": "stdout",
     "output_type": "stream",
     "text": [
      "classification report for decision tree :\n",
      "\n",
      "               precision    recall  f1-score   support\n",
      "\n",
      "           1       0.49      0.50      0.50      5170\n",
      "           2       0.71      0.71      0.71     29487\n",
      "           3       0.62      0.62      0.62     17464\n",
      "\n",
      "    accuracy                           0.66     52121\n",
      "   macro avg       0.61      0.61      0.61     52121\n",
      "weighted avg       0.66      0.66      0.66     52121\n",
      "\n"
     ]
    }
   ],
   "source": [
    "print(\"classification report for decision tree :\\n\\n\",classification_report(y_test, prediction))"
   ]
  },
  {
   "cell_type": "code",
   "execution_count": 19,
   "id": "243920bd",
   "metadata": {
    "scrolled": true
   },
   "outputs": [
    {
     "data": {
      "image/png": "[encoded data removed]",
      "text/plain": [
       "<Figure size 576x360 with 2 Axes>"
      ]
     },
     "metadata": {
      "needs_background": "light"
     },
     "output_type": "display_data"
    }
   ],
   "source": [
    "plt.figure(figsize = (8,5))\n",
    "sns.heatmap(cm, annot=True,fmt='d',cmap=\"YlGnBu\")\n",
    "plt.title(\"confusion Matrix for  Random Forest\")\n",
    "plt.xticks(rotation=45)\n",
    "plt.yticks(rotation=360)\n",
    "plt.show()"
   ]
  },
  {
   "cell_type": "markdown",
   "id": "b715163b",
   "metadata": {},
   "source": [
    "## Random Forest"
   ]
  },
  {
   "cell_type": "code",
   "execution_count": 20,
   "id": "b67f0861",
   "metadata": {},
   "outputs": [],
   "source": [
    "clf = RandomForestClassifier(n_estimators = 100, random_state = 18).fit(x_train, y_train)"
   ]
  },
  {
   "cell_type": "code",
   "execution_count": 21,
   "id": "65179022",
   "metadata": {},
   "outputs": [],
   "source": [
    "prediction = clf.predict(x_test)"
   ]
  },
  {
   "cell_type": "code",
   "execution_count": 22,
   "id": "f058b683",
   "metadata": {},
   "outputs": [
    {
     "data": {
      "text/plain": [
       "array([[ 2500,  2575,    95],\n",
       "       [ 1146, 24388,  3953],\n",
       "       [  116,  6706, 10642]], dtype=int64)"
      ]
     },
     "execution_count": 22,
     "metadata": {},
     "output_type": "execute_result"
    }
   ],
   "source": [
    "cm = confusion_matrix(y_test, prediction)\n",
    "cm"
   ]
  },
  {
   "cell_type": "code",
   "execution_count": 23,
   "id": "7dbae673",
   "metadata": {},
   "outputs": [
    {
     "data": {
      "text/plain": [
       "0.7200552560388327"
      ]
     },
     "execution_count": 23,
     "metadata": {},
     "output_type": "execute_result"
    }
   ],
   "source": [
    "accuracy_score(y_test, prediction)"
   ]
  },
  {
   "cell_type": "code",
   "execution_count": 24,
   "id": "4071bf26",
   "metadata": {},
   "outputs": [
    {
     "data": {
      "text/plain": [
       "0.7200552560388327"
      ]
     },
     "execution_count": 24,
     "metadata": {},
     "output_type": "execute_result"
    }
   ],
   "source": [
    "f1_score(y_test,prediction, average=\"micro\")"
   ]
  },
  {
   "cell_type": "code",
   "execution_count": 25,
   "id": "4bf9b9be",
   "metadata": {},
   "outputs": [
    {
     "name": "stdout",
     "output_type": "stream",
     "text": [
      "classification report for Random Forest :\n",
      "\n",
      "               precision    recall  f1-score   support\n",
      "\n",
      "           1       0.66      0.48      0.56      5170\n",
      "           2       0.72      0.83      0.77     29487\n",
      "           3       0.72      0.61      0.66     17464\n",
      "\n",
      "    accuracy                           0.72     52121\n",
      "   macro avg       0.70      0.64      0.66     52121\n",
      "weighted avg       0.72      0.72      0.71     52121\n",
      "\n"
     ]
    }
   ],
   "source": [
    "print(\"classification report for Random Forest :\\n\\n\",classification_report(y_test, prediction))"
   ]
  },
  {
   "cell_type": "code",
   "execution_count": 26,
   "id": "aae6191c",
   "metadata": {},
   "outputs": [
    {
     "data": {
      "image/png": "[encoded data removed]",
      "text/plain": [
       "<Figure size 576x360 with 2 Axes>"
      ]
     },
     "metadata": {
      "needs_background": "light"
     },
     "output_type": "display_data"
    }
   ],
   "source": [
    "plt.figure(figsize = (8,5))\n",
    "sns.heatmap(cm, annot=True,fmt='d',cmap=\"YlGnBu\")\n",
    "plt.title(\"confusion Matrix for  Random Forest\")\n",
    "plt.xticks(rotation=45)\n",
    "plt.yticks(rotation=360)\n",
    "plt.show()"
   ]
  },
  {
   "cell_type": "markdown",
   "id": "f996598f",
   "metadata": {},
   "source": [
    "#### Here Random Forest Classifier algorithm able to achieve the F1-score of 0.7295 (73%) which is better than decision tree model (65%) \n"
   ]
  },
  {
   "cell_type": "code",
   "execution_count": 27,
   "id": "f3cfeb02",
   "metadata": {},
   "outputs": [],
   "source": [
    "# now predicting on test dataset\n",
    "test=test.drop(\"building_id\",axis=1)\n",
    "clf_pred_test=clf.predict(test)"
   ]
  },
  {
   "cell_type": "code",
   "execution_count": 33,
   "id": "3e8b72d3",
   "metadata": {},
   "outputs": [
    {
     "data": {
      "text/html": [
       "<div>\n",
       "<style scoped>\n",
       "    .dataframe tbody tr th:only-of-type {\n",
       "        vertical-align: middle;\n",
       "    }\n",
       "\n",
       "    .dataframe tbody tr th {\n",
       "        vertical-align: top;\n",
       "    }\n",
       "\n",
       "    .dataframe thead th {\n",
       "        text-align: right;\n",
       "    }\n",
       "</style>\n",
       "<table border=\"1\" class=\"dataframe\">\n",
       "  <thead>\n",
       "    <tr style=\"text-align: right;\">\n",
       "      <th></th>\n",
       "      <th>building_id</th>\n",
       "      <th>damage_grade</th>\n",
       "    </tr>\n",
       "  </thead>\n",
       "  <tbody>\n",
       "    <tr>\n",
       "      <th>0</th>\n",
       "      <td>300051</td>\n",
       "      <td>2</td>\n",
       "    </tr>\n",
       "    <tr>\n",
       "      <th>1</th>\n",
       "      <td>99355</td>\n",
       "      <td>2</td>\n",
       "    </tr>\n",
       "    <tr>\n",
       "      <th>2</th>\n",
       "      <td>890251</td>\n",
       "      <td>2</td>\n",
       "    </tr>\n",
       "    <tr>\n",
       "      <th>3</th>\n",
       "      <td>745817</td>\n",
       "      <td>2</td>\n",
       "    </tr>\n",
       "    <tr>\n",
       "      <th>4</th>\n",
       "      <td>421793</td>\n",
       "      <td>3</td>\n",
       "    </tr>\n",
       "  </tbody>\n",
       "</table>\n",
       "</div>"
      ],
      "text/plain": [
       "   building_id  damage_grade\n",
       "0       300051             2\n",
       "1        99355             2\n",
       "2       890251             2\n",
       "3       745817             2\n",
       "4       421793             3"
      ]
     },
     "execution_count": 33,
     "metadata": {},
     "output_type": "execute_result"
    }
   ],
   "source": [
    "submission=pd.read_csv(\"D:/dinsha/ML PROJECT/nepal/submission_format.csv\")\n",
    "submission=submission.drop(\"damage_grade\",axis=1)\n",
    "clf_pred_test=pd.DataFrame(clf_pred_test)\n",
    "submission[\"damage_grade\"]=clf_pred_test\n",
    "submission.head()"
   ]
  },
  {
   "cell_type": "code",
   "execution_count": null,
   "id": "67312576",
   "metadata": {},
   "outputs": [],
   "source": []
  },
  {
   "cell_type": "code",
   "execution_count": null,
   "id": "2c342ad1",
   "metadata": {},
   "outputs": [],
   "source": []
  }
 ],
 "metadata": {
  "kernelspec": {
   "display_name": "Python 3 (ipykernel)",
   "language": "python",
   "name": "python3"
  },
  "language_info": {
   "codemirror_mode": {
    "name": "ipython",
    "version": 3
   },
   "file_extension": ".py",
   "mimetype": "text/x-python",
   "name": "python",
   "nbconvert_exporter": "python",
   "pygments_lexer": "ipython3",
   "version": "3.9.12"
  }
 },
 "nbformat": 4,
 "nbformat_minor": 5
}
